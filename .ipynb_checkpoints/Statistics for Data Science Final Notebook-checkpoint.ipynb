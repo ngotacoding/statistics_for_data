{
 "cells": [
  {
   "cell_type": "markdown",
   "id": "8093f964-fa26-46b5-83a6-55b6091950c8",
   "metadata": {},
   "source": [
    "# PROBLEM"
   ]
  },
  {
   "cell_type": "markdown",
   "id": "6d21e3ef-1472-4ece-8618-8a52eacf2acd",
   "metadata": {},
   "source": [
    "Upper management will like to get some insight into the following.\n",
    "\n",
    "Is there a significant difference in the median value of houses bounded by the Charles river or not?\n",
    "\n",
    "Is there a difference in median values of houses of each proportion of owner-occupied units built before 1940?\n",
    "\n",
    "Can we conclude that there is no relationship between Nitric oxide concentrations and the proportion of non-retail business acres per town?\n",
    "\n",
    "What is the impact of an additional weighted distance to the five Boston employment centres on the median value of owner-occupied homes?"
   ]
  },
  {
   "cell_type": "markdown",
   "id": "945f3029-e8a4-4678-b03d-b170b001b907",
   "metadata": {},
   "source": [
    "## Import Libraries and dataset"
   ]
  },
  {
   "cell_type": "code",
   "execution_count": 1,
   "id": "c7c9b206-af24-44ce-9cb3-163c44c110e7",
   "metadata": {},
   "outputs": [],
   "source": [
    "import numpy as np\n",
    "import pandas as pd\n",
    "import matplotlib.pyplot as plt\n",
    "import statsmodels.api as sm\n",
    "import scipy.stats as st\n",
    "import seaborn as sns\n",
    "import warnings"
   ]
  },
  {
   "cell_type": "code",
   "execution_count": 2,
   "id": "38f3fc9b-a4d1-4d0d-8910-d6613b478554",
   "metadata": {},
   "outputs": [],
   "source": [
    "boston_url = 'https://cf-courses-data.s3.us.cloud-object-storage.appdomain.cloud/IBMDeveloperSkillsNetwork-ST0151EN-SkillsNetwork/labs/boston_housing.csv'\n",
    "boston_df=pd.read_csv(boston_url)"
   ]
  },
  {
   "cell_type": "markdown",
   "id": "82713866-e96a-469b-8cb0-998ec54e9bd0",
   "metadata": {},
   "source": [
    "---\n",
    "## EXPLORATORY DATA ANALYSIS"
   ]
  },
  {
   "cell_type": "code",
   "execution_count": 3,
   "id": "1e66738b-9d94-42e6-94e8-69c71e803c81",
   "metadata": {},
   "outputs": [
    {
     "name": "stdout",
     "output_type": "stream",
     "text": [
      "<class 'pandas.core.frame.DataFrame'>\n",
      "RangeIndex: 506 entries, 0 to 505\n",
      "Data columns (total 14 columns):\n",
      " #   Column      Non-Null Count  Dtype  \n",
      "---  ------      --------------  -----  \n",
      " 0   Unnamed: 0  506 non-null    int64  \n",
      " 1   CRIM        506 non-null    float64\n",
      " 2   ZN          506 non-null    float64\n",
      " 3   INDUS       506 non-null    float64\n",
      " 4   CHAS        506 non-null    float64\n",
      " 5   NOX         506 non-null    float64\n",
      " 6   RM          506 non-null    float64\n",
      " 7   AGE         506 non-null    float64\n",
      " 8   DIS         506 non-null    float64\n",
      " 9   RAD         506 non-null    float64\n",
      " 10  TAX         506 non-null    float64\n",
      " 11  PTRATIO     506 non-null    float64\n",
      " 12  LSTAT       506 non-null    float64\n",
      " 13  MEDV        506 non-null    float64\n",
      "dtypes: float64(13), int64(1)\n",
      "memory usage: 55.5 KB\n"
     ]
    }
   ],
   "source": [
    "boston_df.info()"
   ]
  },
  {
   "cell_type": "code",
   "execution_count": 4,
   "id": "655c2340-1cb2-4eba-99a0-7c389a59f8c8",
   "metadata": {},
   "outputs": [
    {
     "data": {
      "text/plain": [
       "Index(['#', 'CRIM', 'ZN', 'INDUS', 'CHAS', 'NOX', 'RM', 'AGE', 'DIS', 'RAD',\n",
       "       'TAX', 'PTRATIO', 'LSTAT', 'MEDV'],\n",
       "      dtype='object')"
      ]
     },
     "execution_count": 4,
     "metadata": {},
     "output_type": "execute_result"
    }
   ],
   "source": [
    "boston_df.rename(columns = {'Unnamed: 0':\"#\"}, inplace = True)\n",
    "boston_df.columns"
   ]
  },
  {
   "cell_type": "markdown",
   "id": "e75a0a3f-2356-41df-9dc8-19a9681720cd",
   "metadata": {},
   "source": [
    "|ACRONYM |MEANING|\n",
    "--- | --- |\n",
    "CRIM | per capita crime rate by town|\n",
    "ZN | proportion of residential land zoned for lots over 25,000 sq.ft.|\n",
    "INDUS | proportion of non-retail business acres per town.|\n",
    "CHAS | Charles River dummy variable (1 if tract bounds river; 0 otherwise)|\n",
    "NOX | nitric oxides concentration (parts per 10 million)|\n",
    "RM | average number of rooms per dwelling|\n",
    "AGE | proportion of owner-occupied units built prior to 1940|\n",
    "DIS | weighted distances to five Boston employment centres|\n",
    "RAD | index of accessibility to radial highways|\n",
    "TAX | full-value property-tax rate per 10,000 dollars |\n",
    "PTRATIO | pupil-teacher ratio by town|\n",
    "LSTAT | \\% lower status of the population|\n",
    "MEDV | Median value of owner-occupied homes in 1000's of dollars|"
   ]
  },
  {
   "cell_type": "code",
   "execution_count": 5,
   "id": "511f8216-d45f-4794-938d-a599a57a2322",
   "metadata": {},
   "outputs": [
    {
     "data": {
      "text/html": [
       "<div>\n",
       "<style scoped>\n",
       "    .dataframe tbody tr th:only-of-type {\n",
       "        vertical-align: middle;\n",
       "    }\n",
       "\n",
       "    .dataframe tbody tr th {\n",
       "        vertical-align: top;\n",
       "    }\n",
       "\n",
       "    .dataframe thead th {\n",
       "        text-align: right;\n",
       "    }\n",
       "</style>\n",
       "<table border=\"1\" class=\"dataframe\">\n",
       "  <thead>\n",
       "    <tr style=\"text-align: right;\">\n",
       "      <th></th>\n",
       "      <th>#</th>\n",
       "      <th>CRIM</th>\n",
       "      <th>ZN</th>\n",
       "      <th>INDUS</th>\n",
       "      <th>CHAS</th>\n",
       "      <th>NOX</th>\n",
       "      <th>RM</th>\n",
       "      <th>AGE</th>\n",
       "      <th>DIS</th>\n",
       "      <th>RAD</th>\n",
       "      <th>TAX</th>\n",
       "      <th>PTRATIO</th>\n",
       "      <th>LSTAT</th>\n",
       "      <th>MEDV</th>\n",
       "    </tr>\n",
       "  </thead>\n",
       "  <tbody>\n",
       "    <tr>\n",
       "      <th>count</th>\n",
       "      <td>506.000000</td>\n",
       "      <td>506.000000</td>\n",
       "      <td>506.000000</td>\n",
       "      <td>506.000000</td>\n",
       "      <td>506.000000</td>\n",
       "      <td>506.000000</td>\n",
       "      <td>506.000000</td>\n",
       "      <td>506.000000</td>\n",
       "      <td>506.000000</td>\n",
       "      <td>506.000000</td>\n",
       "      <td>506.000000</td>\n",
       "      <td>506.000000</td>\n",
       "      <td>506.000000</td>\n",
       "      <td>506.000000</td>\n",
       "    </tr>\n",
       "    <tr>\n",
       "      <th>mean</th>\n",
       "      <td>252.500000</td>\n",
       "      <td>3.613524</td>\n",
       "      <td>11.363636</td>\n",
       "      <td>11.136779</td>\n",
       "      <td>0.069170</td>\n",
       "      <td>0.554695</td>\n",
       "      <td>6.284634</td>\n",
       "      <td>68.574901</td>\n",
       "      <td>3.795043</td>\n",
       "      <td>9.549407</td>\n",
       "      <td>408.237154</td>\n",
       "      <td>18.455534</td>\n",
       "      <td>12.653063</td>\n",
       "      <td>22.532806</td>\n",
       "    </tr>\n",
       "    <tr>\n",
       "      <th>std</th>\n",
       "      <td>146.213884</td>\n",
       "      <td>8.601545</td>\n",
       "      <td>23.322453</td>\n",
       "      <td>6.860353</td>\n",
       "      <td>0.253994</td>\n",
       "      <td>0.115878</td>\n",
       "      <td>0.702617</td>\n",
       "      <td>28.148861</td>\n",
       "      <td>2.105710</td>\n",
       "      <td>8.707259</td>\n",
       "      <td>168.537116</td>\n",
       "      <td>2.164946</td>\n",
       "      <td>7.141062</td>\n",
       "      <td>9.197104</td>\n",
       "    </tr>\n",
       "    <tr>\n",
       "      <th>min</th>\n",
       "      <td>0.000000</td>\n",
       "      <td>0.006320</td>\n",
       "      <td>0.000000</td>\n",
       "      <td>0.460000</td>\n",
       "      <td>0.000000</td>\n",
       "      <td>0.385000</td>\n",
       "      <td>3.561000</td>\n",
       "      <td>2.900000</td>\n",
       "      <td>1.129600</td>\n",
       "      <td>1.000000</td>\n",
       "      <td>187.000000</td>\n",
       "      <td>12.600000</td>\n",
       "      <td>1.730000</td>\n",
       "      <td>5.000000</td>\n",
       "    </tr>\n",
       "    <tr>\n",
       "      <th>25%</th>\n",
       "      <td>126.250000</td>\n",
       "      <td>0.082045</td>\n",
       "      <td>0.000000</td>\n",
       "      <td>5.190000</td>\n",
       "      <td>0.000000</td>\n",
       "      <td>0.449000</td>\n",
       "      <td>5.885500</td>\n",
       "      <td>45.025000</td>\n",
       "      <td>2.100175</td>\n",
       "      <td>4.000000</td>\n",
       "      <td>279.000000</td>\n",
       "      <td>17.400000</td>\n",
       "      <td>6.950000</td>\n",
       "      <td>17.025000</td>\n",
       "    </tr>\n",
       "    <tr>\n",
       "      <th>50%</th>\n",
       "      <td>252.500000</td>\n",
       "      <td>0.256510</td>\n",
       "      <td>0.000000</td>\n",
       "      <td>9.690000</td>\n",
       "      <td>0.000000</td>\n",
       "      <td>0.538000</td>\n",
       "      <td>6.208500</td>\n",
       "      <td>77.500000</td>\n",
       "      <td>3.207450</td>\n",
       "      <td>5.000000</td>\n",
       "      <td>330.000000</td>\n",
       "      <td>19.050000</td>\n",
       "      <td>11.360000</td>\n",
       "      <td>21.200000</td>\n",
       "    </tr>\n",
       "    <tr>\n",
       "      <th>75%</th>\n",
       "      <td>378.750000</td>\n",
       "      <td>3.677083</td>\n",
       "      <td>12.500000</td>\n",
       "      <td>18.100000</td>\n",
       "      <td>0.000000</td>\n",
       "      <td>0.624000</td>\n",
       "      <td>6.623500</td>\n",
       "      <td>94.075000</td>\n",
       "      <td>5.188425</td>\n",
       "      <td>24.000000</td>\n",
       "      <td>666.000000</td>\n",
       "      <td>20.200000</td>\n",
       "      <td>16.955000</td>\n",
       "      <td>25.000000</td>\n",
       "    </tr>\n",
       "    <tr>\n",
       "      <th>max</th>\n",
       "      <td>505.000000</td>\n",
       "      <td>88.976200</td>\n",
       "      <td>100.000000</td>\n",
       "      <td>27.740000</td>\n",
       "      <td>1.000000</td>\n",
       "      <td>0.871000</td>\n",
       "      <td>8.780000</td>\n",
       "      <td>100.000000</td>\n",
       "      <td>12.126500</td>\n",
       "      <td>24.000000</td>\n",
       "      <td>711.000000</td>\n",
       "      <td>22.000000</td>\n",
       "      <td>37.970000</td>\n",
       "      <td>50.000000</td>\n",
       "    </tr>\n",
       "  </tbody>\n",
       "</table>\n",
       "</div>"
      ],
      "text/plain": [
       "                #        CRIM          ZN       INDUS        CHAS         NOX  \\\n",
       "count  506.000000  506.000000  506.000000  506.000000  506.000000  506.000000   \n",
       "mean   252.500000    3.613524   11.363636   11.136779    0.069170    0.554695   \n",
       "std    146.213884    8.601545   23.322453    6.860353    0.253994    0.115878   \n",
       "min      0.000000    0.006320    0.000000    0.460000    0.000000    0.385000   \n",
       "25%    126.250000    0.082045    0.000000    5.190000    0.000000    0.449000   \n",
       "50%    252.500000    0.256510    0.000000    9.690000    0.000000    0.538000   \n",
       "75%    378.750000    3.677083   12.500000   18.100000    0.000000    0.624000   \n",
       "max    505.000000   88.976200  100.000000   27.740000    1.000000    0.871000   \n",
       "\n",
       "               RM         AGE         DIS         RAD         TAX     PTRATIO  \\\n",
       "count  506.000000  506.000000  506.000000  506.000000  506.000000  506.000000   \n",
       "mean     6.284634   68.574901    3.795043    9.549407  408.237154   18.455534   \n",
       "std      0.702617   28.148861    2.105710    8.707259  168.537116    2.164946   \n",
       "min      3.561000    2.900000    1.129600    1.000000  187.000000   12.600000   \n",
       "25%      5.885500   45.025000    2.100175    4.000000  279.000000   17.400000   \n",
       "50%      6.208500   77.500000    3.207450    5.000000  330.000000   19.050000   \n",
       "75%      6.623500   94.075000    5.188425   24.000000  666.000000   20.200000   \n",
       "max      8.780000  100.000000   12.126500   24.000000  711.000000   22.000000   \n",
       "\n",
       "            LSTAT        MEDV  \n",
       "count  506.000000  506.000000  \n",
       "mean    12.653063   22.532806  \n",
       "std      7.141062    9.197104  \n",
       "min      1.730000    5.000000  \n",
       "25%      6.950000   17.025000  \n",
       "50%     11.360000   21.200000  \n",
       "75%     16.955000   25.000000  \n",
       "max     37.970000   50.000000  "
      ]
     },
     "execution_count": 5,
     "metadata": {},
     "output_type": "execute_result"
    }
   ],
   "source": [
    "boston_df.describe()"
   ]
  },
  {
   "cell_type": "code",
   "execution_count": 6,
   "id": "3f533b1e-b64c-49da-84d0-4c4afed2b6f1",
   "metadata": {},
   "outputs": [
    {
     "data": {
      "text/html": [
       "<div>\n",
       "<style scoped>\n",
       "    .dataframe tbody tr th:only-of-type {\n",
       "        vertical-align: middle;\n",
       "    }\n",
       "\n",
       "    .dataframe tbody tr th {\n",
       "        vertical-align: top;\n",
       "    }\n",
       "\n",
       "    .dataframe thead th {\n",
       "        text-align: right;\n",
       "    }\n",
       "</style>\n",
       "<table border=\"1\" class=\"dataframe\">\n",
       "  <thead>\n",
       "    <tr style=\"text-align: right;\">\n",
       "      <th></th>\n",
       "      <th>#</th>\n",
       "      <th>CRIM</th>\n",
       "      <th>ZN</th>\n",
       "      <th>INDUS</th>\n",
       "      <th>CHAS</th>\n",
       "      <th>NOX</th>\n",
       "      <th>RM</th>\n",
       "      <th>AGE</th>\n",
       "      <th>DIS</th>\n",
       "      <th>RAD</th>\n",
       "      <th>TAX</th>\n",
       "      <th>PTRATIO</th>\n",
       "      <th>LSTAT</th>\n",
       "      <th>MEDV</th>\n",
       "    </tr>\n",
       "  </thead>\n",
       "  <tbody>\n",
       "    <tr>\n",
       "      <th>0</th>\n",
       "      <td>0</td>\n",
       "      <td>0.00632</td>\n",
       "      <td>18.0</td>\n",
       "      <td>2.31</td>\n",
       "      <td>0.0</td>\n",
       "      <td>0.538</td>\n",
       "      <td>6.575</td>\n",
       "      <td>65.2</td>\n",
       "      <td>4.0900</td>\n",
       "      <td>1.0</td>\n",
       "      <td>296.0</td>\n",
       "      <td>15.3</td>\n",
       "      <td>4.98</td>\n",
       "      <td>24.0</td>\n",
       "    </tr>\n",
       "    <tr>\n",
       "      <th>1</th>\n",
       "      <td>1</td>\n",
       "      <td>0.02731</td>\n",
       "      <td>0.0</td>\n",
       "      <td>7.07</td>\n",
       "      <td>0.0</td>\n",
       "      <td>0.469</td>\n",
       "      <td>6.421</td>\n",
       "      <td>78.9</td>\n",
       "      <td>4.9671</td>\n",
       "      <td>2.0</td>\n",
       "      <td>242.0</td>\n",
       "      <td>17.8</td>\n",
       "      <td>9.14</td>\n",
       "      <td>21.6</td>\n",
       "    </tr>\n",
       "    <tr>\n",
       "      <th>2</th>\n",
       "      <td>2</td>\n",
       "      <td>0.02729</td>\n",
       "      <td>0.0</td>\n",
       "      <td>7.07</td>\n",
       "      <td>0.0</td>\n",
       "      <td>0.469</td>\n",
       "      <td>7.185</td>\n",
       "      <td>61.1</td>\n",
       "      <td>4.9671</td>\n",
       "      <td>2.0</td>\n",
       "      <td>242.0</td>\n",
       "      <td>17.8</td>\n",
       "      <td>4.03</td>\n",
       "      <td>34.7</td>\n",
       "    </tr>\n",
       "    <tr>\n",
       "      <th>3</th>\n",
       "      <td>3</td>\n",
       "      <td>0.03237</td>\n",
       "      <td>0.0</td>\n",
       "      <td>2.18</td>\n",
       "      <td>0.0</td>\n",
       "      <td>0.458</td>\n",
       "      <td>6.998</td>\n",
       "      <td>45.8</td>\n",
       "      <td>6.0622</td>\n",
       "      <td>3.0</td>\n",
       "      <td>222.0</td>\n",
       "      <td>18.7</td>\n",
       "      <td>2.94</td>\n",
       "      <td>33.4</td>\n",
       "    </tr>\n",
       "    <tr>\n",
       "      <th>4</th>\n",
       "      <td>4</td>\n",
       "      <td>0.06905</td>\n",
       "      <td>0.0</td>\n",
       "      <td>2.18</td>\n",
       "      <td>0.0</td>\n",
       "      <td>0.458</td>\n",
       "      <td>7.147</td>\n",
       "      <td>54.2</td>\n",
       "      <td>6.0622</td>\n",
       "      <td>3.0</td>\n",
       "      <td>222.0</td>\n",
       "      <td>18.7</td>\n",
       "      <td>5.33</td>\n",
       "      <td>36.2</td>\n",
       "    </tr>\n",
       "  </tbody>\n",
       "</table>\n",
       "</div>"
      ],
      "text/plain": [
       "   #     CRIM    ZN  INDUS  CHAS    NOX     RM   AGE     DIS  RAD    TAX  \\\n",
       "0  0  0.00632  18.0   2.31   0.0  0.538  6.575  65.2  4.0900  1.0  296.0   \n",
       "1  1  0.02731   0.0   7.07   0.0  0.469  6.421  78.9  4.9671  2.0  242.0   \n",
       "2  2  0.02729   0.0   7.07   0.0  0.469  7.185  61.1  4.9671  2.0  242.0   \n",
       "3  3  0.03237   0.0   2.18   0.0  0.458  6.998  45.8  6.0622  3.0  222.0   \n",
       "4  4  0.06905   0.0   2.18   0.0  0.458  7.147  54.2  6.0622  3.0  222.0   \n",
       "\n",
       "   PTRATIO  LSTAT  MEDV  \n",
       "0     15.3   4.98  24.0  \n",
       "1     17.8   9.14  21.6  \n",
       "2     17.8   4.03  34.7  \n",
       "3     18.7   2.94  33.4  \n",
       "4     18.7   5.33  36.2  "
      ]
     },
     "execution_count": 6,
     "metadata": {},
     "output_type": "execute_result"
    }
   ],
   "source": [
    "boston_df.head()"
   ]
  },
  {
   "cell_type": "code",
   "execution_count": 7,
   "id": "28e50ebb-d4cc-4e07-a08d-f6a88d686ca6",
   "metadata": {},
   "outputs": [
    {
     "data": {
      "text/plain": [
       "(506, 14)"
      ]
     },
     "execution_count": 7,
     "metadata": {},
     "output_type": "execute_result"
    }
   ],
   "source": [
    "boston_df.shape"
   ]
  },
  {
   "cell_type": "markdown",
   "id": "c33748c1-67de-41d0-a4ee-37e27f9d705d",
   "metadata": {},
   "source": [
    "---\n",
    "### BOX PLOT ON THE MEDIAN VALUE OF OWNER-OCCUPIED HOMES\n",
    "\n",
    "#### Making the Boxplot"
   ]
  },
  {
   "cell_type": "code",
   "execution_count": 8,
   "id": "cf9068aa-0512-4bd7-bbf6-40e3bad6a517",
   "metadata": {},
   "outputs": [
    {
     "data": {
      "image/png": "[encoded data removed]",
      "text/plain": [
       "<Figure size 504x360 with 1 Axes>"
      ]
     },
     "metadata": {},
     "output_type": "display_data"
    }
   ],
   "source": [
    "sns.set(rc={\"figure.figsize\":(7,5)})\n",
    "sns.set_theme(style=\"whitegrid\")\n",
    "ax = sns.boxplot(x = None, y = \"MEDV\", data = boston_df, color = \"y\", width = 0.25)\n",
    "ax.set_title(\" Median value of owner-occupied homes in $1000's\")\n",
    "plt.show()"
   ]
  },
  {
   "cell_type": "markdown",
   "id": "5847da81-7077-464f-99c1-d202d8cfe410",
   "metadata": {},
   "source": [
    "**Observations:**\n",
    "* The minimum value is below 5.\n",
    "* The maximum value is greater than 35 but less than 40\n",
    "* The round dots represent outliers,\n",
    "* The median is over 20 but less than 25"
   ]
  },
  {
   "cell_type": "markdown",
   "id": "ea7e4449-1d14-4205-b0a5-efe283b88609",
   "metadata": {},
   "source": [
    "---\n",
    "### BARPLOT OF TOWNS BORDERING CHARLES RIVER\n",
    "\n",
    "#### Making the Barplot"
   ]
  },
  {
   "cell_type": "code",
   "execution_count": 9,
   "id": "21faeece-b55d-4bb9-842d-e982671490fe",
   "metadata": {},
   "outputs": [
    {
     "data": {
      "image/png": "[encoded data removed]",
      "text/plain": [
       "<Figure size 504x360 with 1 Axes>"
      ]
     },
     "metadata": {},
     "output_type": "display_data"
    }
   ],
   "source": [
    "no = sum(boston_df[\"CHAS\"] == 0)\n",
    "yes = sum(boston_df[\"CHAS\"] == 1)\n",
    "y = [yes,no]\n",
    "x = [\"Yes\", \"No\"]\n",
    "\n",
    "my_pal = {\"Yes\" : 'b', \"No\":'y'}\n",
    "x_label = \"BORDERS RIVER\"\n",
    "y_label = \"NUMBER OF TOWNS\"\n",
    "ax = sns.barplot(x = x, y=y,data = None, palette = my_pal)\n",
    "ax.set( xlabel = x_label, ylabel = y_label)\n",
    "ax.set_title(\"Towns Bordering Charles River\")\n",
    "plt.show()"
   ]
  },
  {
   "cell_type": "markdown",
   "id": "45e5f030-16af-47ac-b6a4-9129e548c24d",
   "metadata": {},
   "source": [
    "#### Observations:\n",
    "* Most towns do not border the Charles River.\n",
    "* Less than 50 towns border the Charles River"
   ]
  },
  {
   "cell_type": "markdown",
   "id": "47cd170c-d0c8-4cbe-b618-73c96644b714",
   "metadata": {
    "tags": []
   },
   "source": [
    "## Is there a significant difference in the median value of houses bounded by the Charles river or not?"
   ]
  },
  {
   "cell_type": "markdown",
   "id": "de16e5eb-4779-4ab6-8579-dd18e1c4e5af",
   "metadata": {},
   "source": [
    "#### Determining equality of variance\n",
    "- H<sub>o</sub> : Population variances are equal\n",
    "- H<sub>a</sub> : Population variances are not equal\n",
    "- α = 0.05"
   ]
  },
  {
   "cell_type": "code",
   "execution_count": 10,
   "id": "971d45f1-0a21-4cd3-96f3-c25d4c213476",
   "metadata": {},
   "outputs": [
    {
     "data": {
      "text/plain": [
       "LeveneResult(statistic=8.751904896045998, pvalue=0.003238119367639829)"
      ]
     },
     "execution_count": 10,
     "metadata": {},
     "output_type": "execute_result"
    }
   ],
   "source": [
    "st.levene(boston_df[boston_df[\"CHAS\"]==0][\"MEDV\"],\n",
    "          boston_df[boston_df[\"CHAS\"]==1][\"MEDV\"], center = 'mean')"
   ]
  },
  {
   "cell_type": "markdown",
   "id": "d2d1849d-da5d-492a-ad19-385a3b91f000",
   "metadata": {},
   "source": [
    "**Result:**\n",
    "\n",
    "- The p-value of 0.003 is less than 0.05, hence we reject the null hypothesis and fail to reject the alternate hypothesis. \n",
    "\n",
    "- Thus, population variances are not equal."
   ]
  },
  {
   "cell_type": "markdown",
   "id": "ddb7b821-2b9e-4a4c-b941-077fa930798d",
   "metadata": {},
   "source": [
    "### Performing a T-Test.\n",
    "#### The hypotheses\n",
    "- H<sub>o</sub> : ( *µ<sub>1</sub>=µ<sub>2</sub>* ) The means of the median values of houses bordering Charles River and houses that don't border Charles River are equal.\n",
    "- H<sub>a</sub> : The means of median values of houses bordering Charles River and houses that don't border Charles River are not equal.\n",
    "- α = 0.05"
   ]
  },
  {
   "cell_type": "markdown",
   "id": "1384775f-5835-40a3-bbbe-b4509766ef14",
   "metadata": {},
   "source": [
    "#### The calculation"
   ]
  },
  {
   "cell_type": "code",
   "execution_count": 11,
   "id": "2c00b5a0-5881-44f5-88c5-48ad00507e38",
   "metadata": {},
   "outputs": [
    {
     "data": {
      "text/plain": [
       "Ttest_indResult(statistic=-3.113291312794837, pvalue=0.003567170098137517)"
      ]
     },
     "execution_count": 11,
     "metadata": {},
     "output_type": "execute_result"
    }
   ],
   "source": [
    "st.ttest_ind(boston_df[boston_df[\"CHAS\"]==0][\"MEDV\"],\n",
    "             boston_df[boston_df[\"CHAS\"]==1][\"MEDV\"], equal_var = False)"
   ]
  },
  {
   "cell_type": "markdown",
   "id": "de312430-1ad1-41f6-8730-9861fb0c6c4d",
   "metadata": {},
   "source": [
    "#### Conclusion\n",
    "- The p-value of 0.004 is less than 0.05, hence we reject the null hypothesis and fail to reject the alternate hypothesis. \n",
    "- Thus there is a difference in the median value of houses for towns bordering Charles River and towns that don't."
   ]
  },
  {
   "cell_type": "markdown",
   "id": "f5223ca1-3b67-4a2a-a500-26eb7a59c352",
   "metadata": {},
   "source": [
    "---\n",
    "## BOXPLOT OF MEDIAN VALUE OF OWNER-OCCUPIED HOMES (MEDV) PER AGE GROUP"
   ]
  },
  {
   "cell_type": "markdown",
   "id": "321ee572-b775-4223-a542-be697b27d3a1",
   "metadata": {
    "tags": []
   },
   "source": [
    "#### Descritizing the age groups"
   ]
  },
  {
   "cell_type": "code",
   "execution_count": 12,
   "id": "d9bca22a-d1b9-40ea-9754-fd90a1c3c5ba",
   "metadata": {},
   "outputs": [],
   "source": [
    "boston_df.loc[(boston_df[\"AGE\"] <= 35), \"age_group\"] = \"35 years and younger\"\n",
    "boston_df.loc[(boston_df[\"AGE\"] >35) & (boston_df[\"AGE\"] <70), \"age_group\"] = \"between 35 and 70 years\"\n",
    "boston_df.loc[(boston_df[\"AGE\"] >=70), \"age_group\"] = \"70 years and older\""
   ]
  },
  {
   "cell_type": "markdown",
   "id": "d5e28338-fc43-4e81-91eb-a886f6d110ef",
   "metadata": {},
   "source": [
    "#### Making the Boxplot"
   ]
  },
  {
   "cell_type": "code",
   "execution_count": 13,
   "id": "e1690976-6abc-41d8-bc89-5ca0a2c718f3",
   "metadata": {},
   "outputs": [
    {
     "data": {
      "image/png": "[encoded data removed]",
      "text/plain": [
       "<Figure size 648x432 with 1 Axes>"
      ]
     },
     "metadata": {},
     "output_type": "display_data"
    }
   ],
   "source": [
    "sns.set(rc={\"figure.figsize\":(9,6)})\n",
    "x_label = \"AGE GROUP\"\n",
    "y_label = \"MEDV in $1000's\"\n",
    "\n",
    "my_pal = {\"35 years and younger\":'b',\"between 35 and 70 years\":'r',\"70 years and older\":'y'}\n",
    "ax = sns.boxplot(x = \"age_group\", y = \"MEDV\", data = boston_df, width = 0.25, palette = my_pal)\n",
    "ax.set( xlabel = x_label, ylabel = y_label)\n",
    "ax.set_title(\" Median Value of Owner-Occupied Homes (MEDV) Per Age Group\")\n",
    "plt.show()"
   ]
  },
  {
   "cell_type": "markdown",
   "id": "301cb92e-29c6-4e9c-a2dc-a0347c375778",
   "metadata": {},
   "source": [
    "#### Observation:\n",
    "* Towns with more older houses have a lower median home value."
   ]
  },
  {
   "cell_type": "markdown",
   "id": "a574faeb-d89a-4691-894a-13390c3c51aa",
   "metadata": {},
   "source": [
    "## Is there a difference in Median values of houses (MEDV) for each proportion of owner occupied units built prior to 1940 (AGE)? (ANOVA)"
   ]
  },
  {
   "cell_type": "markdown",
   "id": "1ca85f23-01ab-4955-8175-08dcb8cd32e2",
   "metadata": {},
   "source": [
    "#### The hypotheses\n",
    "- H<sub>o</sub> : ( *µ<sub>1</sub>=µ<sub>2</sub>=µ<sub>3</sub>* )The means for median values of houses are equal regardless of the age.\n",
    "- H<sub>a</sub> : The means for median values of houses differ depending on their age.\n",
    "- α = 0.05"
   ]
  },
  {
   "cell_type": "markdown",
   "id": "8effb689-aeea-4c23-9371-f0c127776baa",
   "metadata": {},
   "source": [
    "#### The calculation"
   ]
  },
  {
   "cell_type": "code",
   "execution_count": 14,
   "id": "255666d3-7c97-48de-9dee-57c270c7af67",
   "metadata": {},
   "outputs": [
    {
     "name": "stdout",
     "output_type": "stream",
     "text": [
      " F_statistic: 36.40764999196599, P-Value: 1.7105011022702984e-15\n"
     ]
    }
   ],
   "source": [
    "under_35 = boston_df.loc[boston_df[\"age_group\"]==\"35 years and younger\"][\"MEDV\"]\n",
    "over_70 = boston_df.loc[boston_df[\"age_group\"]==\"70 years and older\"][\"MEDV\"]\n",
    "btn_35_70 = boston_df.loc[boston_df[\"age_group\"]==\"between 35 and 70 years\"][\"MEDV\"]\n",
    "\n",
    "f_statistic, p_value = st.f_oneway(under_35, over_70, btn_35_70)\n",
    "print(f\" F_statistic: {f_statistic}, P-Value: {p_value}\")"
   ]
  },
  {
   "cell_type": "markdown",
   "id": "614106eb-fa21-4fb1-8ccc-e7e96ec82de8",
   "metadata": {},
   "source": [
    "#### Conclusion\n",
    "- The p-value of 1.711e-15 is less than 0.05, hence we reject the null hypothesis and fail to reject the alternate hypothesis. \n",
    "- Thus the means of the median values of houses differ depending on age of the houses."
   ]
  },
  {
   "cell_type": "markdown",
   "id": "7354f6b0-20ce-43ea-9ce8-2b5ab55e3870",
   "metadata": {},
   "source": [
    "---\n",
    "### SCATTERPLOT OF NITRIC OXIDE CONCENTRATIONS (NOX) VS PROPOTION OF NON-RETAIL BUSINESS ACRES PER TOWN\n",
    "\n",
    "#### Making the Scatterplot"
   ]
  },
  {
   "cell_type": "code",
   "execution_count": 15,
   "id": "efc5a060-e3a8-4e5b-9e16-3b438360d7ec",
   "metadata": {},
   "outputs": [
    {
     "data": {
      "image/png": "[encoded data removed]",
      "text/plain": [
       "<Figure size 864x432 with 1 Axes>"
      ]
     },
     "metadata": {},
     "output_type": "display_data"
    }
   ],
   "source": [
    "x_label = \"Nitric oxide concentrations\".title()\n",
    "y_label = \"Proportion of non-retail business acres per town\".title()\n",
    "sns.set(rc={\"figure.figsize\":(12,6)})\n",
    "ax = sns.scatterplot(y = \"INDUS\",x = \"NOX\", data = boston_df, color = 'r')\n",
    "ax.set( xlabel = x_label, ylabel = y_label)\n",
    "ax.set_title(\"Nitric oxide concentrations Vs Proportion of non-retail business acres per town\".upper())\n",
    "\n",
    "plt.show()"
   ]
  },
  {
   "cell_type": "markdown",
   "id": "095fa420-9486-4be9-a007-fc86a02e6cb8",
   "metadata": {},
   "source": [
    "#### Observations:\n",
    "* As nitric oxide concentrations increase, the proportion of non-retail business acres increases\n",
    "* Most towns have lower nitric oxide concentrations (less than 0.6) and as a result the proportion of non-retail acres is mostly less than 15"
   ]
  },
  {
   "cell_type": "markdown",
   "id": "3b11a831-951b-4820-98cd-2077c2879a73",
   "metadata": {},
   "source": [
    "## Can we conclude that there is no relationship between Nitric oxide concentrations and proportion of non-retail business acres per town? (Pearson Correlation)\n"
   ]
  },
  {
   "cell_type": "markdown",
   "id": "ad16087e-02cf-4bf6-9d74-d1174c0ac8fa",
   "metadata": {},
   "source": [
    "#### The hypotheses\n",
    "- H<sub>o</sub> : There is no relationship between Nitric Oxide Concentrations and the proportion of non-retail business acres in town.\n",
    "- H<sub>a</sub> : There is a relationship between Nitric Oxide Concentrations and the proportion of non-retail business acres in town.\n",
    "- α = 0.05"
   ]
  },
  {
   "cell_type": "markdown",
   "id": "3684e3ae-6c99-4e97-9833-f248daf09806",
   "metadata": {},
   "source": [
    "#### The calculation"
   ]
  },
  {
   "cell_type": "code",
   "execution_count": 16,
   "id": "37492f5e-7619-4f58-953e-6b3db7b8bad4",
   "metadata": {},
   "outputs": [
    {
     "name": "stdout",
     "output_type": "stream",
     "text": [
      "Correlation coefficient: 0.763651446920915, P-Value: 7.913361061239593e-98\n"
     ]
    }
   ],
   "source": [
    "coef, p_value = st.pearsonr(boston_df[\"NOX\"], boston_df[\"INDUS\"])\n",
    "print(f\"Correlation coefficient: {coef}, P-Value: {p_value}\")"
   ]
  },
  {
   "cell_type": "markdown",
   "id": "eec5ca1c-31f4-47e7-83e4-bb3260ccf488",
   "metadata": {},
   "source": [
    "#### Conclusion\n",
    "-  The p-value of 7.913e-98 is less than 0.05, hence we reject the null hypothesis and fail to reject the alternate hypothesis.\n",
    "- Thus there exists a relationship between Nitric Oxide Concentrations and the proportion of non-retail business acres in town.\n",
    "- A correlation coefficient of 0.764 means there is a strong positive relationship between Nitric Oxide Concentrations and the proportion of non-retail business acres in town."
   ]
  },
  {
   "cell_type": "markdown",
   "id": "72651004-8bab-490c-a631-a8ab9f5aa5ab",
   "metadata": {},
   "source": [
    "---\n",
    "### HISTOGRAM OF PUPIL TO TEACHER RATIO"
   ]
  },
  {
   "cell_type": "code",
   "execution_count": 17,
   "id": "264fd86a-7d28-4767-be14-4a2a660e6693",
   "metadata": {},
   "outputs": [
    {
     "data": {
      "image/png": "[encoded data removed]",
      "text/plain": [
       "<Figure size 648x360 with 1 Axes>"
      ]
     },
     "metadata": {},
     "output_type": "display_data"
    }
   ],
   "source": [
    "sns.set(rc={\"figure.figsize\":(9,5)})\n",
    "ax = boston_df[\"PTRATIO\"].hist(bins = range(12,23,1), grid = True)\n",
    "ax.set_xlabel(\"Pupil To Teacher Ratio\")\n",
    "ax.set_ylabel(\"Number of Towns\")\n",
    "ax.set_title(\"Pupil To Teacher Ratio Distribution\".upper())\n",
    "plt.show()"
   ]
  },
  {
   "cell_type": "markdown",
   "id": "e7fcc55c-b56e-496c-88a9-7c2109999632",
   "metadata": {},
   "source": [
    "#### Observation:\n",
    "* Most towns have a Pupil to Teacher Ratio above 14"
   ]
  },
  {
   "cell_type": "markdown",
   "id": "097f0ccc-15be-4f42-b140-cd798ceaded8",
   "metadata": {},
   "source": [
    "---\n",
    "## What is the impact of an additional weighted distance  to the five Boston employment centres on the median value of owner occupied homes? (Regression analysis)"
   ]
  },
  {
   "cell_type": "markdown",
   "id": "8c709dcc-5d63-41b1-9f6f-63a59c5e947c",
   "metadata": {},
   "source": [
    "#### The hypotheses\n",
    "- There is no impact on addition of a weighted distance to the five Boston employment centres on the median value of owner occupied homes\n",
    "- There is an impact on addition of a weighted distance to the five Boston employment centres on the median value of owner occupied homes"
   ]
  },
  {
   "cell_type": "markdown",
   "id": "05f8bfd1-6adc-4d8b-84c1-c8c93df60cd2",
   "metadata": {},
   "source": [
    "#### Defining our dependent and explanatory variables\n",
    "- x is our explanatory variable\n",
    "- y is our dependent variable"
   ]
  },
  {
   "cell_type": "code",
   "execution_count": 18,
   "id": "de58a34e-ace2-4350-aa07-6ac6ac44b112",
   "metadata": {},
   "outputs": [],
   "source": [
    "x = boston_df[\"DIS\"]\n",
    "y = boston_df[\"MEDV\"]"
   ]
  },
  {
   "cell_type": "markdown",
   "id": "d3276bc3-c057-4c4c-b76a-bee4ec94a5c6",
   "metadata": {},
   "source": [
    "#### Adding constants to our x variable"
   ]
  },
  {
   "cell_type": "code",
   "execution_count": 19,
   "id": "a506675b-f2bb-4985-896c-aad946b457d7",
   "metadata": {},
   "outputs": [],
   "source": [
    "warnings.simplefilter(action='ignore', category=FutureWarning)\n",
    "x = sm.add_constant(x)"
   ]
  },
  {
   "cell_type": "markdown",
   "id": "bbac5dd2-5379-43f6-8af8-928c6de01fe8",
   "metadata": {},
   "source": [
    "#### Model fitting and making predictions"
   ]
  },
  {
   "cell_type": "code",
   "execution_count": 20,
   "id": "4ae90070-8737-4701-aa02-4d18177ade57",
   "metadata": {},
   "outputs": [],
   "source": [
    "model = sm.OLS(y,x).fit()\n",
    "predictions = model.predict(x)"
   ]
  },
  {
   "cell_type": "markdown",
   "id": "2cb03a0f-851d-4180-9130-23a7df6b1bef",
   "metadata": {},
   "source": [
    "#### Printing out model statistics"
   ]
  },
  {
   "cell_type": "code",
   "execution_count": 21,
   "id": "5a9bee94-c9e4-4db6-b153-fd37af217751",
   "metadata": {},
   "outputs": [
    {
     "data": {
      "text/html": [
       "<table class=\"simpletable\">\n",
       "<caption>OLS Regression Results</caption>\n",
       "<tr>\n",
       "  <th>Dep. Variable:</th>          <td>MEDV</td>       <th>  R-squared:         </th> <td>   0.062</td>\n",
       "</tr>\n",
       "<tr>\n",
       "  <th>Model:</th>                   <td>OLS</td>       <th>  Adj. R-squared:    </th> <td>   0.061</td>\n",
       "</tr>\n",
       "<tr>\n",
       "  <th>Method:</th>             <td>Least Squares</td>  <th>  F-statistic:       </th> <td>   33.58</td>\n",
       "</tr>\n",
       "<tr>\n",
       "  <th>Date:</th>             <td>Mon, 11 Jul 2022</td> <th>  Prob (F-statistic):</th> <td>1.21e-08</td>\n",
       "</tr>\n",
       "<tr>\n",
       "  <th>Time:</th>                 <td>18:57:52</td>     <th>  Log-Likelihood:    </th> <td> -1823.9</td>\n",
       "</tr>\n",
       "<tr>\n",
       "  <th>No. Observations:</th>      <td>   506</td>      <th>  AIC:               </th> <td>   3652.</td>\n",
       "</tr>\n",
       "<tr>\n",
       "  <th>Df Residuals:</th>          <td>   504</td>      <th>  BIC:               </th> <td>   3660.</td>\n",
       "</tr>\n",
       "<tr>\n",
       "  <th>Df Model:</th>              <td>     1</td>      <th>                     </th>     <td> </td>   \n",
       "</tr>\n",
       "<tr>\n",
       "  <th>Covariance Type:</th>      <td>nonrobust</td>    <th>                     </th>     <td> </td>   \n",
       "</tr>\n",
       "</table>\n",
       "<table class=\"simpletable\">\n",
       "<tr>\n",
       "    <td></td>       <th>coef</th>     <th>std err</th>      <th>t</th>      <th>P>|t|</th>  <th>[0.025</th>    <th>0.975]</th>  \n",
       "</tr>\n",
       "<tr>\n",
       "  <th>const</th> <td>   18.3901</td> <td>    0.817</td> <td>   22.499</td> <td> 0.000</td> <td>   16.784</td> <td>   19.996</td>\n",
       "</tr>\n",
       "<tr>\n",
       "  <th>DIS</th>   <td>    1.0916</td> <td>    0.188</td> <td>    5.795</td> <td> 0.000</td> <td>    0.722</td> <td>    1.462</td>\n",
       "</tr>\n",
       "</table>\n",
       "<table class=\"simpletable\">\n",
       "<tr>\n",
       "  <th>Omnibus:</th>       <td>139.779</td> <th>  Durbin-Watson:     </th> <td>   0.570</td>\n",
       "</tr>\n",
       "<tr>\n",
       "  <th>Prob(Omnibus):</th> <td> 0.000</td>  <th>  Jarque-Bera (JB):  </th> <td> 305.104</td>\n",
       "</tr>\n",
       "<tr>\n",
       "  <th>Skew:</th>          <td> 1.466</td>  <th>  Prob(JB):          </th> <td>5.59e-67</td>\n",
       "</tr>\n",
       "<tr>\n",
       "  <th>Kurtosis:</th>      <td> 5.424</td>  <th>  Cond. No.          </th> <td>    9.32</td>\n",
       "</tr>\n",
       "</table><br/><br/>Notes:<br/>[1] Standard Errors assume that the covariance matrix of the errors is correctly specified."
      ],
      "text/plain": [
       "<class 'statsmodels.iolib.summary.Summary'>\n",
       "\"\"\"\n",
       "                            OLS Regression Results                            \n",
       "==============================================================================\n",
       "Dep. Variable:                   MEDV   R-squared:                       0.062\n",
       "Model:                            OLS   Adj. R-squared:                  0.061\n",
       "Method:                 Least Squares   F-statistic:                     33.58\n",
       "Date:                Mon, 11 Jul 2022   Prob (F-statistic):           1.21e-08\n",
       "Time:                        18:57:52   Log-Likelihood:                -1823.9\n",
       "No. Observations:                 506   AIC:                             3652.\n",
       "Df Residuals:                     504   BIC:                             3660.\n",
       "Df Model:                           1                                         \n",
       "Covariance Type:            nonrobust                                         \n",
       "==============================================================================\n",
       "                 coef    std err          t      P>|t|      [0.025      0.975]\n",
       "------------------------------------------------------------------------------\n",
       "const         18.3901      0.817     22.499      0.000      16.784      19.996\n",
       "DIS            1.0916      0.188      5.795      0.000       0.722       1.462\n",
       "==============================================================================\n",
       "Omnibus:                      139.779   Durbin-Watson:                   0.570\n",
       "Prob(Omnibus):                  0.000   Jarque-Bera (JB):              305.104\n",
       "Skew:                           1.466   Prob(JB):                     5.59e-67\n",
       "Kurtosis:                       5.424   Cond. No.                         9.32\n",
       "==============================================================================\n",
       "\n",
       "Notes:\n",
       "[1] Standard Errors assume that the covariance matrix of the errors is correctly specified.\n",
       "\"\"\""
      ]
     },
     "execution_count": 21,
     "metadata": {},
     "output_type": "execute_result"
    }
   ],
   "source": [
    "model.summary()"
   ]
  },
  {
   "cell_type": "markdown",
   "id": "d642f436-ee49-46fd-9f70-dc72e0974101",
   "metadata": {},
   "source": [
    "#### Conclusion\n",
    "- The p-value of 1.21e-08 is less than 0.05, hence we reject the null hypothesis and fail to reject the alternate hypothesis.\n",
    "- Thus there is an impact on addition of a weighted distance to the five Boston employment centres on the median value of owner occupied homes.\n",
    "- The R-Squared is 0.062"
   ]
  },
  {
   "cell_type": "markdown",
   "id": "ec087fe4-369a-4562-aa24-a2f5bd734dc8",
   "metadata": {},
   "source": [
    "#### Finding the correlation\n",
    "- Our correlation, R-value, is the square root of R-Squared from our regression model."
   ]
  },
  {
   "cell_type": "code",
   "execution_count": 22,
   "id": "61077652-6f32-4287-bfa3-edb0073c4e0c",
   "metadata": {},
   "outputs": [
    {
     "name": "stdout",
     "output_type": "stream",
     "text": [
      "R-Squared: 0.062, R-value: 0.24899799195977465\n"
     ]
    }
   ],
   "source": [
    "r = np.sqrt(0.062)\n",
    "print(f\"R-Squared: 0.062, R-value: {r}\")"
   ]
  },
  {
   "cell_type": "markdown",
   "id": "204ce727-1959-422a-83c1-2f93dcc37e92",
   "metadata": {},
   "source": [
    "#### Conclusion\n",
    "- An R value of 0.249 means there is a weak positive correlation between the weighted distance to the five Boston employment centres and the median value of owner occupied homes.\n",
    "- Thus an additional weighted distance to the five Boston employment centres will result in a slight increase in the median value of owner occupied homes"
   ]
  }
 ],
 "metadata": {
  "kernelspec": {
   "display_name": "Python 3 (ipykernel)",
   "language": "python",
   "name": "python3"
  },
  "language_info": {
   "codemirror_mode": {
    "name": "ipython",
    "version": 3
   },
   "file_extension": ".py",
   "mimetype": "text/x-python",
   "name": "python",
   "nbconvert_exporter": "python",
   "pygments_lexer": "ipython3",
   "version": "3.9.7"
  }
 },
 "nbformat": 4,
 "nbformat_minor": 5
}
